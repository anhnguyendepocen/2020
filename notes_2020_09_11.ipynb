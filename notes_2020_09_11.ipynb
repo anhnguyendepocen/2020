{
 "cells": [
  {
   "cell_type": "markdown",
   "metadata": {},
   "source": [
    "# MATH 210 Introduction to Mathematical Computing\n",
    "\n",
    "## September 11, 2020\n",
    "\n",
    "* Jupyter notebooks\n",
    "* Markdown"
   ]
  },
  {
   "cell_type": "markdown",
   "metadata": {},
   "source": [
    "## Jupyter Notebooks\n",
    "\n",
    "* Go to ubc.syzygy.ca\n",
    "* Create a folder called MATH210\n",
    "* Navigate into that folder\n",
    "* Create a new Python 3 notebook (use the New button on top right)"
   ]
  },
  {
   "cell_type": "markdown",
   "metadata": {},
   "source": [
    "There are 2 modes: command mode and edit mode. We enter commands like add cell (pressing `a`) in command mode to edit the notebook. We double click a cell to enter edit mode to edit the cell."
   ]
  },
  {
   "cell_type": "markdown",
   "metadata": {},
   "source": [
    "* Go to command mode\n",
    "* Type the letter `a` to add cells\n",
    "* Type the letter `x` to cut cells\n",
    "* Double click a cell to go to edit mode\n",
    "* Change the cell to markdown and write text."
   ]
  },
  {
   "cell_type": "markdown",
   "metadata": {},
   "source": [
    "## Markdown"
   ]
  },
  {
   "cell_type": "markdown",
   "metadata": {},
   "source": [
    "Markdown is a simple text to HTML language. We can write text, headers, lists, links and images."
   ]
  },
  {
   "cell_type": "markdown",
   "metadata": {},
   "source": [
    "Use `#` to create headers:\n",
    "\n",
    "# Header 1\n",
    "\n",
    "## Header 2\n",
    "\n",
    "### Header 3\n",
    "\n",
    "#### Header 4"
   ]
  },
  {
   "cell_type": "markdown",
   "metadata": {},
   "source": [
    "Create numbered lists with numbers:\n",
    "\n",
    "1. Number theory\n",
    "2. Group theory\n",
    "3. Complex analysis"
   ]
  },
  {
   "cell_type": "markdown",
   "metadata": {},
   "source": [
    "Use asterisks to create unordered list:\n",
    "\n",
    "* Sandwich\n",
    "* Coffee\n",
    "* Chocolate"
   ]
  },
  {
   "cell_type": "markdown",
   "metadata": {},
   "source": [
    "Use the syntax `[text](url)` to create a link. For example, `[UBC Math](https://www.math.ubc.ca)` render as:\n",
    "\n",
    "[UBC Math](https://www.math.ubc.ca)"
   ]
  },
  {
   "cell_type": "markdown",
   "metadata": {},
   "source": [
    "Use the syntax `![description](url)` to show an image:\n",
    "\n",
    "![Kitten](https://www.vets4pets.com/siteassets/species/cat/kitten/tiny-kitten-in-field.jpg?w=585&scale=down)"
   ]
  },
  {
   "cell_type": "markdown",
   "metadata": {},
   "source": [
    "Use the syntax below to create a table:\n",
    "\n",
    "| Country | Capital |\n",
    "| :---: | :---: |\n",
    "| Canada | Ottawa |\n",
    "| Australia | Canberra |\n",
    "| Brazil | Brasilia |\n",
    "| Morocco | Rabat |"
   ]
  },
  {
   "cell_type": "markdown",
   "metadata": {},
   "source": [
    "Format text **bold** or *emphasis* or `code`."
   ]
  }
 ],
 "metadata": {
  "kernelspec": {
   "display_name": "Python 3",
   "language": "python",
   "name": "python3"
  },
  "language_info": {
   "codemirror_mode": {
    "name": "ipython",
    "version": 3
   },
   "file_extension": ".py",
   "mimetype": "text/x-python",
   "name": "python",
   "nbconvert_exporter": "python",
   "pygments_lexer": "ipython3",
   "version": "3.8.3"
  }
 },
 "nbformat": 4,
 "nbformat_minor": 4
}
