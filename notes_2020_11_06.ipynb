{
 "cells": [
  {
   "cell_type": "markdown",
   "metadata": {},
   "source": [
    "# MATH 210 Introduction to Mathematical Computing\n",
    "\n",
    "## November 6, 2020\n",
    "\n",
    "* Error formula for Euler's method\n",
    "* Heun's method"
   ]
  },
  {
   "cell_type": "code",
   "execution_count": 1,
   "metadata": {},
   "outputs": [],
   "source": [
    "import numpy as np\n",
    "import matplotlib.pyplot as plt"
   ]
  },
  {
   "cell_type": "markdown",
   "metadata": {},
   "source": [
    "## Error formula for Euler's method\n",
    "\n",
    "Consider $y' = f(t,y)$, $y(t_0)=y_0$ and let $y(t)$ be the solution. For step size $h$, we have the local (truncation) error\n",
    "\n",
    "$$\n",
    "E_{local}(h) = | y(t_1) - y_1 | \\leq \\frac{K_2 h^2}{2}\n",
    "$$\n",
    "\n",
    "where $|y''(t)| \\leq K_2$ for all $t \\in [t_0,t_1]$ and $t_1 = t_0 + h$. In this case, we say that $E_{local}(h) = O(h^2)$ (using [Big-O notiaton](https://en.wikipedia.org/wiki/Big_O_notation))."
   ]
  },
  {
   "cell_type": "markdown",
   "metadata": {},
   "source": [
    "## Loglog plot of error"
   ]
  },
  {
   "cell_type": "code",
   "execution_count": 2,
   "metadata": {},
   "outputs": [],
   "source": [
    "def odeEuler(f,t,y0):\n",
    "    y = np.zeros(t.shape)\n",
    "    y[0] = y0\n",
    "    for n in range(0,len(t) - 1):\n",
    "        y[n + 1] = y[n] + f(t[n],y[n])*(t[n + 1] - t[n])\n",
    "    return y"
   ]
  },
  {
   "cell_type": "code",
   "execution_count": 3,
   "metadata": {},
   "outputs": [
    {
     "data": {
      "image/png": "[encoded data removed]",
      "text/plain": [
       "<Figure size 432x288 with 1 Axes>"
      ]
     },
     "metadata": {
      "needs_background": "light"
     },
     "output_type": "display_data"
    }
   ],
   "source": [
    "def f(t,y):\n",
    "    return -y\n",
    "\n",
    "y0 = 1\n",
    "h = np.array([0.001,0.01,0.1])\n",
    "E = np.zeros(len(h))\n",
    "for n in range(0,len(h)):\n",
    "    y = odeEuler(f,np.array([0,h[n]]),y0)\n",
    "    E[n] = np.abs(np.exp(-h[n]) - y[1])\n",
    "\n",
    "plt.loglog(h,E,'.-',ms=10)\n",
    "plt.grid(True)\n",
    "plt.show()"
   ]
  },
  {
   "cell_type": "markdown",
   "metadata": {},
   "source": [
    "The **order** of a numerical method for differential equations is $m$ if\n",
    "\n",
    "$$\n",
    "E_{local}(h) = O(h^{m+1})\n",
    "$$\n",
    "\n",
    "Note that $m+1$ is the slope in the plot $\\log(E_{local})$ versus $\\log(h)$."
   ]
  },
  {
   "cell_type": "markdown",
   "metadata": {},
   "source": [
    "## Example\n",
    "\n",
    "$$\n",
    "y' = -\\frac{y}{t} \\ , \\ y(1) = 1\n",
    "$$\n",
    "\n",
    "$$\n",
    "y(t) = \\frac{1}{t}\n",
    "$$"
   ]
  },
  {
   "cell_type": "code",
   "execution_count": 4,
   "metadata": {},
   "outputs": [
    {
     "data": {
      "image/png": "[encoded data removed]",
      "text/plain": [
       "<Figure size 432x288 with 1 Axes>"
      ]
     },
     "metadata": {
      "needs_background": "light"
     },
     "output_type": "display_data"
    }
   ],
   "source": [
    "def f(t,y):\n",
    "    return -y/t\n",
    "\n",
    "y0 = 1; t0 = 1;\n",
    "h = np.logspace(0,-5,6)\n",
    "E = np.zeros(len(h))\n",
    "for n in range(0,len(h)):\n",
    "    y = odeEuler(f,np.array([t0,t0 + h[n]]),y0)\n",
    "    E[n] = np.abs(1/(t0 + h[n]) - y[1])\n",
    "\n",
    "plt.loglog(h,E,'.-',ms=10)\n",
    "plt.grid(True)\n",
    "plt.show()"
   ]
  },
  {
   "cell_type": "markdown",
   "metadata": {},
   "source": [
    "Note that the function `numpy.logspace` works as follows:"
   ]
  },
  {
   "cell_type": "code",
   "execution_count": 5,
   "metadata": {},
   "outputs": [
    {
     "data": {
      "text/plain": [
       "array([1.e+00, 1.e-01, 1.e-02, 1.e-03, 1.e-04, 1.e-05])"
      ]
     },
     "execution_count": 5,
     "metadata": {},
     "output_type": "execute_result"
    }
   ],
   "source": [
    "np.logspace(0,-5,6)"
   ]
  },
  {
   "cell_type": "markdown",
   "metadata": {},
   "source": [
    "## Heun's method\n",
    "\n",
    "Euler's method is order 1 and uses linear approximation (degree 1 Taylor polynomial). What about higher order methods?"
   ]
  },
  {
   "cell_type": "markdown",
   "metadata": {},
   "source": [
    "\\begin{align*}\n",
    "y(t + h) &= y(t) + y'(t)h + \\frac{y''(t)h^2}{2} + \\frac{y'''(c)h^3}{6} \\\\\n",
    "y(t + h) &\\approx y(t) + y'(t)h + \\frac{y''(t)h^2}{2} \\\\\n",
    "y(t + h) &\\approx y(t) + \\left( \\frac{2 y'(t) + y''(t)h}{2} \\right) h \\\\\n",
    "y(t + h) &\\approx y(t) + \\left( \\frac{y'(t) + y'(t) + y''(t)h}{2} \\right) h \\\\\n",
    "\\end{align*}"
   ]
  },
  {
   "cell_type": "markdown",
   "metadata": {},
   "source": [
    "We know $y'(t) = f(t,y)$ and the degree 1 Taylor polynomial of $y'(t)$ is\n",
    "\n",
    "$$\n",
    "y'(t + h) \\approx y'(t) + y''(t)h\n",
    "$$\n",
    "\n",
    "Therefore\n",
    "\n",
    "\\begin{align*}\n",
    "y(t_1) &\\approx y(t_0) + \\left( \\frac{y'(t_0) + y'(t_0) + y''(t_0)h}{2} \\right) h \\\\\n",
    "y(t_1) &\\approx y(t_0) + \\left( \\frac{y'(t_0) + y'(t_1)}{2} \\right) h \\\\\n",
    "y(t_1) &\\approx y(t_0) + \\left( \\frac{f(t_0,y_0) + f(t_1,y_1)}{2} \\right) h \\\\\n",
    "\\end{align*}"
   ]
  },
  {
   "cell_type": "markdown",
   "metadata": {},
   "source": [
    "But we don't know what $y_1$ is! What do we do? Use Euler's method to approximate $y_1$ to plug into $f(t_1,y_1)$."
   ]
  },
  {
   "cell_type": "markdown",
   "metadata": {},
   "source": [
    "\\begin{align*}\n",
    "\\tilde{y}_1 &= y_0 + f(t_0,y_0)h \\\\\n",
    "y_1 &= y_0 + \\left( \\frac{f(t_0,y_0) + f(t_1,\\tilde{y}_1)}{2} \\right) h\n",
    "\\end{align*}"
   ]
  },
  {
   "cell_type": "markdown",
   "metadata": {},
   "source": [
    "This is called [Heun's method](https://en.wikipedia.org/wiki/Heun%27s_method):\n",
    "\n",
    "\\begin{align*}\n",
    "k_1 &= f(t_0,y_0) \\\\\n",
    "k_2 &= f(t_1,y_0 + k_1 h) \\\\\n",
    "y_1 &= y_0 + \\frac{k_1 + k_2}{2} h\n",
    "\\end{align*}"
   ]
  },
  {
   "cell_type": "markdown",
   "metadata": {},
   "source": [
    "## Implementation"
   ]
  },
  {
   "cell_type": "code",
   "execution_count": 6,
   "metadata": {},
   "outputs": [],
   "source": [
    "def odeHeun(f,t,y0):\n",
    "    y = np.zeros(t.shape)\n",
    "    y[0] = y0\n",
    "    for n in range(0,len(t) - 1):\n",
    "        h = t[n + 1] - t[n]\n",
    "        k1 = f(t[n],y[n])\n",
    "        k2 = f(t[n + 1], y[n] + k1*h)\n",
    "        y[n + 1] = y[n] + (k1 + k2)/2*h\n",
    "    return y"
   ]
  },
  {
   "cell_type": "code",
   "execution_count": 7,
   "metadata": {},
   "outputs": [
    {
     "data": {
      "image/png": "[encoded data removed]",
      "text/plain": [
       "<Figure size 432x288 with 1 Axes>"
      ]
     },
     "metadata": {
      "needs_background": "light"
     },
     "output_type": "display_data"
    }
   ],
   "source": [
    "def f(t,y):\n",
    "    return -y\n",
    "\n",
    "y0 = 1\n",
    "h = np.array([0.001,0.01,0.1])\n",
    "E = np.zeros(len(h))\n",
    "for n in range(0,len(h)):\n",
    "    y = odeHeun(f,np.array([0,h[n]]),y0)\n",
    "    E[n] = np.abs(np.exp(-h[n]) - y[1])\n",
    "\n",
    "plt.loglog(h,E,'.-',ms=10)\n",
    "plt.grid(True)\n",
    "plt.show()"
   ]
  },
  {
   "cell_type": "markdown",
   "metadata": {},
   "source": [
    "The sloped of the loglog plot is 3 as expected since Heun's method is order 2."
   ]
  }
 ],
 "metadata": {
  "kernelspec": {
   "display_name": "Python 3",
   "language": "python",
   "name": "python3"
  },
  "language_info": {
   "codemirror_mode": {
    "name": "ipython",
    "version": 3
   },
   "file_extension": ".py",
   "mimetype": "text/x-python",
   "name": "python",
   "nbconvert_exporter": "python",
   "pygments_lexer": "ipython3",
   "version": "3.8.3"
  }
 },
 "nbformat": 4,
 "nbformat_minor": 4
}
