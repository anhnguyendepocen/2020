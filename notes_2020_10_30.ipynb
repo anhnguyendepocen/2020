{
 "cells": [
  {
   "cell_type": "markdown",
   "metadata": {},
   "source": [
    "# MATH 210 Introduction to Mathematical Computing\n",
    "\n",
    "## October 30, 2020\n",
    "\n",
    "* Simpson's Rule"
   ]
  },
  {
   "cell_type": "code",
   "execution_count": 1,
   "metadata": {},
   "outputs": [],
   "source": [
    "import numpy as np\n",
    "import matplotlib.pyplot as plt"
   ]
  },
  {
   "cell_type": "markdown",
   "metadata": {},
   "source": [
    "## SImpson's Rule"
   ]
  },
  {
   "cell_type": "markdown",
   "metadata": {},
   "source": [
    "Write a function called `simpsons` which takes input parameters `f`, `a`, `b` and `N` and returns the approximation by Simpson's rule of the integral\n",
    "\n",
    "$$\n",
    "\\int_a^b f(x) dx\n",
    "$$\n",
    "\n",
    "$$\n",
    "S_N(f) = \\frac{\\Delta x}{3} \\sum_{n=1}^{N/2} (f(x_{2n - 2}) + 4f(x_{2n - 1}) + f(x_{2n}))\n",
    "$$"
   ]
  },
  {
   "cell_type": "code",
   "execution_count": 2,
   "metadata": {},
   "outputs": [],
   "source": [
    "def simpsons(f,a,b,N):\n",
    "    if N % 2 != 0:\n",
    "        print('N must be even.')\n",
    "        return None\n",
    "    dx = (b - a)/N\n",
    "    x = np.linspace(a,b,N+1)\n",
    "    I = np.sum(f(x[0:-1:2]) + 4*f(x[1::2]) + f(x[2::2]))*dx/3\n",
    "    return I"
   ]
  },
  {
   "cell_type": "code",
   "execution_count": 3,
   "metadata": {},
   "outputs": [
    {
     "name": "stdout",
     "output_type": "stream",
     "text": [
      "1.0000000003382359\n"
     ]
    }
   ],
   "source": [
    "def f(x):\n",
    "    return np.cos(x)\n",
    "\n",
    "a = 0\n",
    "b = np.pi/2\n",
    "N = 100\n",
    "\n",
    "I = simpsons(f,a,b,N)\n",
    "\n",
    "print(I)"
   ]
  },
  {
   "cell_type": "code",
   "execution_count": 4,
   "metadata": {},
   "outputs": [],
   "source": [
    "import scipy.integrate as spi"
   ]
  },
  {
   "cell_type": "code",
   "execution_count": 5,
   "metadata": {},
   "outputs": [
    {
     "name": "stdout",
     "output_type": "stream",
     "text": [
      "1.0000000003382359\n"
     ]
    }
   ],
   "source": [
    "def f(x):\n",
    "    return np.cos(x)\n",
    "\n",
    "a = 0\n",
    "b = np.pi/2\n",
    "N = 100\n",
    "x = np.linspace(a,b,N+1)\n",
    "y = f(x)\n",
    "I = spi.simps(y,x)\n",
    "print(I)"
   ]
  },
  {
   "cell_type": "markdown",
   "metadata": {},
   "source": [
    "Now let's compute\n",
    "\n",
    "$$\n",
    "\\int_0^1 e^{-x^2} dx\n",
    "$$\n",
    "\n",
    "We have seen that we need $N \\geq 429$ for left Riemann sums to have error less than $0.001$. The error formula for Simpson's rule is\n",
    "\n",
    "$$\n",
    "E_N^S(f) = \\left| \\int_a^b f(x) dx - S_N(f) \\right| \\leq \\frac{(b - a)^5}{180 N^4} f^{(4)}(x)\n",
    "$$\n",
    "\n",
    "Compute the derivatives of $f(x) = e^{-x^2}$:\n",
    "\n",
    "\\begin{align*}\n",
    "f'(x) &= -2x e^{-x^2} \\\\\n",
    "f''(x) &= (4x^2 - 2) e^{-x^2} \\\\\n",
    "f'''(x) &= (12x - 8x^3) e^{-x^2} \\\\\n",
    "f''''(x) &= (16x^4 - 48x^2 + 12) e^{-x^2}\n",
    "\\end{align*}"
   ]
  },
  {
   "cell_type": "code",
   "execution_count": 6,
   "metadata": {},
   "outputs": [
    {
     "data": {
      "image/png": "[encoded data removed]",
      "text/plain": [
       "<Figure size 432x288 with 1 Axes>"
      ]
     },
     "metadata": {
      "needs_background": "light"
     },
     "output_type": "display_data"
    }
   ],
   "source": [
    "x = np.linspace(0,1,100)\n",
    "d4f = (16*x**4 - 48*x**2 + 12)*np.exp(-x**2)\n",
    "plt.plot(x,d4f)\n",
    "plt.show()"
   ]
  },
  {
   "cell_type": "markdown",
   "metadata": {},
   "source": [
    "Therefore $|f''''(x)|\\leq 12$ for $x \\in [0,1]$. To guarantee $E_N^S(f) \\leq 0.001$ we need\n",
    "\n",
    "$$\n",
    "E_N^S(f) \\leq \\frac{1}{180 N^4} 12 \\leq 0.001 \\ \\Rightarrow \\ N \\geq \\sqrt[4]{\\frac{1}{180 (0.001)} 12}\n",
    "$$"
   ]
  },
  {
   "cell_type": "code",
   "execution_count": 7,
   "metadata": {},
   "outputs": [
    {
     "data": {
      "text/plain": [
       "2.8574404296987996"
      ]
     },
     "execution_count": 7,
     "metadata": {},
     "output_type": "execute_result"
    }
   ],
   "source": [
    "(1/180/0.001*12)**0.25"
   ]
  },
  {
   "cell_type": "markdown",
   "metadata": {},
   "source": [
    "We need an even number of subintervals therefore $N=4$. Wow!"
   ]
  },
  {
   "cell_type": "code",
   "execution_count": 8,
   "metadata": {},
   "outputs": [
    {
     "name": "stdout",
     "output_type": "stream",
     "text": [
      "0.7468553797909873\n"
     ]
    }
   ],
   "source": [
    "def f(x):\n",
    "    return np.exp(-x**2)\n",
    "\n",
    "a = 0\n",
    "b = 1\n",
    "N = 4\n",
    "x = np.linspace(a,b,N+1)\n",
    "y = f(x)\n",
    "I = spi.simps(y,x)\n",
    "print(I)"
   ]
  }
 ],
 "metadata": {
  "kernelspec": {
   "display_name": "Python 3",
   "language": "python",
   "name": "python3"
  },
  "language_info": {
   "codemirror_mode": {
    "name": "ipython",
    "version": 3
   },
   "file_extension": ".py",
   "mimetype": "text/x-python",
   "name": "python",
   "nbconvert_exporter": "python",
   "pygments_lexer": "ipython3",
   "version": "3.8.3"
  }
 },
 "nbformat": 4,
 "nbformat_minor": 4
}
