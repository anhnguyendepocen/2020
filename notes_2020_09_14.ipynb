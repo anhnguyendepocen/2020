{
 "cells": [
  {
   "cell_type": "markdown",
   "metadata": {},
   "source": [
    "# MATH 210 Introduction to Mathematical Comptuing\n",
    "\n",
    "## September 14, 2020\n",
    "\n",
    "* Jupyter notebooks and markdown\n",
    "* LaTeX\n",
    "* Useful resources"
   ]
  },
  {
   "cell_type": "markdown",
   "metadata": {},
   "source": [
    "## Jupyter notebooks and markdown\n",
    "\n",
    "Quick review:\n",
    "\n",
    "* Headers `#`\n",
    "* Lists with `*` and numbers `1.`\n",
    "* Link with `[text](url)`\n",
    "* Image with `![description](url)`\n",
    "* Tables\n",
    "* Text formating including **bold**, *emphasis* and `code`."
   ]
  },
  {
   "cell_type": "markdown",
   "metadata": {},
   "source": [
    "## LaTeX\n",
    "\n",
    "LaTeX is a programming environment for creating scientific documents. We will only look at a small part of LaTeX for rendering mathematical expressions. We write LaTeX code between single dollar signs to write LaTeX inline. For example, `y = \\sin(\\pi x)` renders inline $y = \\sin(\\pi x)$. We use double dollar signs `$$ ... $$` to display math formulas centered in a paragraph. For example, the **derivative** of a function $f(x)$ at $x = a$ is the limit\n",
    "\n",
    "$$\n",
    "f'(a) = \\lim_{x \\to a} \\frac{f(x) - f(a)}{x - a}\n",
    "$$"
   ]
  },
  {
   "cell_type": "markdown",
   "metadata": {},
   "source": [
    "Let's do some more familiar examples. The **Taylor series** of $f(x) = e^x$ is the sum\n",
    "\n",
    "$$\n",
    "e^x = \\sum_{k = 0}^{\\infty} \\frac{x^k}{k!}\n",
    "$$"
   ]
  },
  {
   "cell_type": "markdown",
   "metadata": {},
   "source": [
    "The **definite integral** of $f(x)$ from $a$ to $b$ is given by the **Fundamental Theorem of Calculus**\n",
    "\n",
    "$$\n",
    "\\int_a^b f(x) dx = F(b) - F(a)\n",
    "$$"
   ]
  },
  {
   "cell_type": "markdown",
   "metadata": {},
   "source": [
    "We can write arrows such as\n",
    "\n",
    "$$\n",
    "xy = 0 \\Rightarrow x = 0 \\text{ or } y = 0\n",
    "$$"
   ]
  },
  {
   "cell_type": "markdown",
   "metadata": {},
   "source": [
    "Let's do an example from [Table of Integrals, Series and Products](http://fisica.ciens.ucv.ve/~svincenz/TISPISGIMR.pdf). The following is 4.134 on p524:\n",
    "\n",
    "$$\n",
    "\\int_0^{\\infty} e^{-\\beta x^2} \n",
    "( \\cosh x - \\cos x ) dx\n",
    "= \\sqrt{ \\frac{\\pi}{\\beta} }\n",
    "\\cosh \\frac{1}{4 \\beta}\n",
    "$$"
   ]
  },
  {
   "cell_type": "markdown",
   "metadata": {},
   "source": [
    "## Helpful Resources\n",
    "\n",
    "Look at the [LaTeX Wikibook](https://en.wikibooks.org/wiki/LaTeX/Mathematics) to find a list of common symbols. And checkout [Detexify](https://detexify.kirelabs.org/classify.html) to find any symbol you can think of!"
   ]
  }
 ],
 "metadata": {
  "kernelspec": {
   "display_name": "Python 3",
   "language": "python",
   "name": "python3"
  },
  "language_info": {
   "codemirror_mode": {
    "name": "ipython",
    "version": 3
   },
   "file_extension": ".py",
   "mimetype": "text/x-python",
   "name": "python",
   "nbconvert_exporter": "python",
   "pygments_lexer": "ipython3",
   "version": "3.8.3"
  }
 },
 "nbformat": 4,
 "nbformat_minor": 4
}
