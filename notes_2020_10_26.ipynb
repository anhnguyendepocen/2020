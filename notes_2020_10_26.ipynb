{
 "cells": [
  {
   "cell_type": "markdown",
   "metadata": {},
   "source": [
    "# MATH 210 Introduction to Mathematical Computing\n",
    "\n",
    "## October 26, 2020\n",
    "\n",
    "* Riemann sums and error formulas\n",
    "* Trapezoid rule and error formula\n",
    "* `scipy.integrate`"
   ]
  },
  {
   "cell_type": "code",
   "execution_count": 1,
   "metadata": {},
   "outputs": [],
   "source": [
    "import numpy as np\n",
    "import matplotlib.pyplot as plt"
   ]
  },
  {
   "cell_type": "markdown",
   "metadata": {},
   "source": [
    "## Riemann sums\n",
    "\n",
    "The **right Riemann sum** for $f(x)$ over $[a,b]$ with $N$ subintervals is\n",
    "\n",
    "$$\n",
    "R_N(f) = \\sum_{n = 1}^N f(x_n) \\Delta x\n",
    "$$\n",
    "\n",
    "where $\\Delta x = (b - a)/N$ and $x_n = a + n \\Delta x$.\n",
    "\n",
    "The **left Riemann sum** for $f(x)$ over $[a,b]$ with $N$ subintervals is\n",
    "\n",
    "$$\n",
    "L_N(f) = \\sum_{n = 1}^N f(x_{n-1}) \\Delta x\n",
    "$$\n",
    "\n",
    "The **midpoint Riemann sum** for $f(x)$ over $[a,b]$ with $N$ subintervals is\n",
    "\n",
    "$$\n",
    "M_N(f) = \\sum_{n = 1}^N f((x_{n-1} + x_n)/2) \\Delta x\n",
    "$$"
   ]
  },
  {
   "cell_type": "markdown",
   "metadata": {},
   "source": [
    "### Example\n",
    "\n",
    "$$\n",
    "\\int_0^1 e^{-x^2} dx\n",
    "$$"
   ]
  },
  {
   "cell_type": "code",
   "execution_count": 2,
   "metadata": {},
   "outputs": [
    {
     "data": {
      "image/png": "[encoded data removed]",
      "text/plain": [
       "<Figure size 432x288 with 1 Axes>"
      ]
     },
     "metadata": {
      "needs_background": "light"
     },
     "output_type": "display_data"
    }
   ],
   "source": [
    "x = np.linspace(0,2,200)\n",
    "y = np.exp(-x**2)\n",
    "plt.plot(x,y)\n",
    "plt.show()"
   ]
  },
  {
   "cell_type": "markdown",
   "metadata": {},
   "source": [
    "From last class, we need $N \\geq 429$ such that $E_N^R(f) < 0.001$ (and also $E_N^L(f) < 0.001$).\n",
    "\n",
    "But first let's look at how to create and slices arrays of $x$ value to get left and right endpoints."
   ]
  },
  {
   "cell_type": "code",
   "execution_count": 3,
   "metadata": {},
   "outputs": [],
   "source": [
    "N = 5\n",
    "a = 0\n",
    "b = 1\n",
    "dx = (b - a)/N\n",
    "x = np.linspace(a,b,N + 1)\n",
    "x_right = x[1:]\n",
    "x_left = x[:N]\n",
    "x_midpoint = (x_right + x_left)/2"
   ]
  },
  {
   "cell_type": "code",
   "execution_count": 4,
   "metadata": {},
   "outputs": [
    {
     "data": {
      "text/plain": [
       "array([0. , 0.2, 0.4, 0.6, 0.8, 1. ])"
      ]
     },
     "execution_count": 4,
     "metadata": {},
     "output_type": "execute_result"
    }
   ],
   "source": [
    "x"
   ]
  },
  {
   "cell_type": "code",
   "execution_count": 5,
   "metadata": {},
   "outputs": [
    {
     "data": {
      "text/plain": [
       "array([0.2, 0.4, 0.6, 0.8, 1. ])"
      ]
     },
     "execution_count": 5,
     "metadata": {},
     "output_type": "execute_result"
    }
   ],
   "source": [
    "x_right"
   ]
  },
  {
   "cell_type": "code",
   "execution_count": 6,
   "metadata": {},
   "outputs": [
    {
     "data": {
      "text/plain": [
       "array([0. , 0.2, 0.4, 0.6, 0.8])"
      ]
     },
     "execution_count": 6,
     "metadata": {},
     "output_type": "execute_result"
    }
   ],
   "source": [
    "x_left"
   ]
  },
  {
   "cell_type": "code",
   "execution_count": 7,
   "metadata": {},
   "outputs": [
    {
     "data": {
      "text/plain": [
       "array([0.1, 0.3, 0.5, 0.7, 0.9])"
      ]
     },
     "execution_count": 7,
     "metadata": {},
     "output_type": "execute_result"
    }
   ],
   "source": [
    "x_midpoint"
   ]
  },
  {
   "cell_type": "markdown",
   "metadata": {},
   "source": [
    "Now compute the approximations for $N=429$."
   ]
  },
  {
   "cell_type": "code",
   "execution_count": 8,
   "metadata": {},
   "outputs": [
    {
     "name": "stdout",
     "output_type": "stream",
     "text": [
      "Right Riemann sum: 0.7460870624144178\n",
      "Midpoint Riemann sum: 0.7468242993874284\n",
      "Left Riemann sum: 0.7475605369105216\n"
     ]
    }
   ],
   "source": [
    "N = 429\n",
    "a = 0\n",
    "b = 1\n",
    "dx = (b - a)/N\n",
    "x = np.linspace(a,b,N + 1)\n",
    "x_right = x[1:]\n",
    "x_left = x[:N]\n",
    "x_midpoint = (x_right + x_left)/2\n",
    "R = np.sum(np.exp(-x_right**2))*dx\n",
    "L = np.sum(np.exp(-x_left**2))*dx\n",
    "M = np.sum(np.exp(-x_midpoint**2))*dx\n",
    "print(\"Right Riemann sum:\", R)\n",
    "print(\"Midpoint Riemann sum:\", M)\n",
    "print(\"Left Riemann sum:\", L)"
   ]
  },
  {
   "cell_type": "markdown",
   "metadata": {},
   "source": [
    "Why is $R_N(f) < M_N(f) < L_N(f)$? Because $f(x) = e^{-x^2}$ is decreasing on $[0,1]$.\n",
    "\n",
    "Also from last class, we need only $N \\geq 10$ for $E_N^M(f) < 0.001$. The approximation with $N=429$ above gives a much smaller error:"
   ]
  },
  {
   "cell_type": "code",
   "execution_count": 9,
   "metadata": {},
   "outputs": [
    {
     "name": "stdout",
     "output_type": "stream",
     "text": [
      "N = 429\n",
      "Midpoint Riemann sum error: 4.5279765559485837e-07\n"
     ]
    }
   ],
   "source": [
    "K2 = 2\n",
    "E = (b - a)**3/(24*N**2)*K2\n",
    "print(\"N =\",N)\n",
    "print(\"Midpoint Riemann sum error:\", E)"
   ]
  },
  {
   "cell_type": "markdown",
   "metadata": {},
   "source": [
    "## Trapezoid rule\n",
    "\n",
    "The **trapezoid rule** for $f(x)$ over $[a,b]$ with $N$ subintervals is\n",
    "\n",
    "$$\n",
    "T_N(f) = \\sum_{n = 1}^N \\frac{f(x_{n-1}) + f(x_n)}{2} \\Delta x = \\frac{R_N(f) + L_N(f)}{2}\n",
    "$$"
   ]
  },
  {
   "cell_type": "markdown",
   "metadata": {},
   "source": [
    "Now let's try the trapezoid rule. We saw last time that $N \\geq 13$ then $E_N^T(f) < 0.001$."
   ]
  },
  {
   "cell_type": "code",
   "execution_count": 10,
   "metadata": {},
   "outputs": [
    {
     "name": "stdout",
     "output_type": "stream",
     "text": [
      "Trapezoid rule: 0.7464612610366896\n"
     ]
    }
   ],
   "source": [
    "N = 13\n",
    "a = 0\n",
    "b = 1\n",
    "dx = (b - a)/N\n",
    "x = np.linspace(a,b,N + 1)\n",
    "x_right = x[1:]\n",
    "x_left = x[:N]\n",
    "T = (np.sum(np.exp(-x_right**2)) + np.sum(np.exp(-x_left**2)))*dx/2\n",
    "print(\"Trapezoid rule:\", T)"
   ]
  },
  {
   "cell_type": "markdown",
   "metadata": {},
   "source": [
    "## Infinite Gaussian integral\n",
    "\n",
    "Let's look at the infinite integral\n",
    "$$\n",
    "\\int_0^{\\infty} e^{-x^2} dx = \\frac{\\sqrt{\\pi}}{2}\n",
    "$$"
   ]
  },
  {
   "cell_type": "markdown",
   "metadata": {},
   "source": [
    "Let's approximate the infinite integral using the trapezoid rule on the interval $[0,10]$ with $N=1000$."
   ]
  },
  {
   "cell_type": "code",
   "execution_count": 11,
   "metadata": {},
   "outputs": [
    {
     "name": "stdout",
     "output_type": "stream",
     "text": [
      "Trapezoid rule: 0.8862269254527582\n"
     ]
    }
   ],
   "source": [
    "N = 1000\n",
    "a = 0\n",
    "b = 10\n",
    "dx = (b - a)/N\n",
    "x = np.linspace(a,b,N + 1)\n",
    "x_right = x[1:]\n",
    "x_left = x[:N]\n",
    "T = (np.sum(np.exp(-x_right**2)) + np.sum(np.exp(-x_left**2)))*dx/2\n",
    "print(\"Trapezoid rule:\", T)"
   ]
  },
  {
   "cell_type": "code",
   "execution_count": 12,
   "metadata": {},
   "outputs": [
    {
     "data": {
      "text/plain": [
       "0.8862269254527579"
      ]
     },
     "execution_count": 12,
     "metadata": {},
     "output_type": "execute_result"
    }
   ],
   "source": [
    "np.sqrt(np.pi)/2"
   ]
  },
  {
   "cell_type": "markdown",
   "metadata": {},
   "source": [
    "## scipy.integrate\n",
    "\n",
    "The subpackage `scipy.integrate` has many functions for approximating integrals."
   ]
  },
  {
   "cell_type": "code",
   "execution_count": 13,
   "metadata": {},
   "outputs": [],
   "source": [
    "import scipy.integrate as spi"
   ]
  },
  {
   "cell_type": "code",
   "execution_count": 14,
   "metadata": {},
   "outputs": [],
   "source": [
    "spi.trapz?"
   ]
  },
  {
   "cell_type": "code",
   "execution_count": 15,
   "metadata": {},
   "outputs": [
    {
     "name": "stdout",
     "output_type": "stream",
     "text": [
      "0.7464612610366896\n"
     ]
    }
   ],
   "source": [
    "N = 13\n",
    "a = 0\n",
    "b = 1\n",
    "dx = (b - a)/N\n",
    "x = np.linspace(a,b,N + 1)\n",
    "x_right = x[1:]\n",
    "x_left = x[:N]\n",
    "T = (np.sum(np.exp(-x_right**2)) + np.sum(np.exp(-x_left**2)))*dx/2\n",
    "print(T)"
   ]
  },
  {
   "cell_type": "code",
   "execution_count": 16,
   "metadata": {},
   "outputs": [
    {
     "name": "stdout",
     "output_type": "stream",
     "text": [
      "0.7464612610366896\n"
     ]
    }
   ],
   "source": [
    "N = 13\n",
    "a = 0\n",
    "b = 1\n",
    "dx = (b - a)/N\n",
    "x = np.linspace(a,b,N + 1)\n",
    "y = np.exp(-x**2)\n",
    "T = spi.trapz(y,x)\n",
    "print(T)"
   ]
  },
  {
   "cell_type": "markdown",
   "metadata": {},
   "source": [
    "## Example\n",
    "\n",
    "Approximate the integral\n",
    "\n",
    "$$\n",
    "\\int_1^2 x^x dx\n",
    "$$\n",
    "\n",
    "using the trapezoid rule with error less than 0.0001."
   ]
  },
  {
   "cell_type": "code",
   "execution_count": 17,
   "metadata": {},
   "outputs": [
    {
     "data": {
      "image/png": "[encoded data removed]",
      "text/plain": [
       "<Figure size 432x288 with 1 Axes>"
      ]
     },
     "metadata": {
      "needs_background": "light"
     },
     "output_type": "display_data"
    }
   ],
   "source": [
    "x = np.linspace(1,2,200)\n",
    "y = x**x\n",
    "plt.plot(x,y)\n",
    "plt.show()"
   ]
  },
  {
   "cell_type": "markdown",
   "metadata": {},
   "source": [
    "The error formula is\n",
    "\n",
    "$$\n",
    "E_N^T(f) \\leq \\frac{(b - a)^3}{12 N^2} K_2\n",
    "$$\n",
    "\n",
    "where $|f''(x)| \\leq K_2$ for $x \\in [a,b]$."
   ]
  },
  {
   "cell_type": "markdown",
   "metadata": {},
   "source": [
    "We have\n",
    "\n",
    "$$\n",
    "f'(x) = x^x ( \\log(x) + 1)\n",
    "$$\n",
    "\n",
    "$$\n",
    "f''(x) = x^x ( \\log(x) + 1)^2 + x^{x-1}\n",
    "$$"
   ]
  },
  {
   "cell_type": "markdown",
   "metadata": {},
   "source": [
    "Plot $f''(x)$ and find a bound $K_2$."
   ]
  },
  {
   "cell_type": "code",
   "execution_count": 18,
   "metadata": {},
   "outputs": [
    {
     "data": {
      "image/png": "[encoded data removed]",
      "text/plain": [
       "<Figure size 432x288 with 1 Axes>"
      ]
     },
     "metadata": {
      "needs_background": "light"
     },
     "output_type": "display_data"
    }
   ],
   "source": [
    "x = np.linspace(1,2,200)\n",
    "d2f = x**x*(np.log(x) + 1)**2 + x**(x - 1)\n",
    "plt.plot(x,d2f)\n",
    "plt.show()"
   ]
  },
  {
   "cell_type": "code",
   "execution_count": 19,
   "metadata": {},
   "outputs": [
    {
     "data": {
      "text/plain": [
       "13.46698950015237"
      ]
     },
     "execution_count": 19,
     "metadata": {},
     "output_type": "execute_result"
    }
   ],
   "source": [
    "K2 = 2**2*(np.log(2) + 1)**2 + 2**(2 - 1)\n",
    "K2"
   ]
  },
  {
   "cell_type": "code",
   "execution_count": 20,
   "metadata": {},
   "outputs": [
    {
     "data": {
      "text/plain": [
       "105.93626031782968"
      ]
     },
     "execution_count": 20,
     "metadata": {},
     "output_type": "execute_result"
    }
   ],
   "source": [
    "N = np.sqrt(K2/12/0.0001)\n",
    "N"
   ]
  },
  {
   "cell_type": "code",
   "execution_count": 21,
   "metadata": {},
   "outputs": [
    {
     "name": "stdout",
     "output_type": "stream",
     "text": [
      "2.0504890474484894\n"
     ]
    }
   ],
   "source": [
    "N = 106\n",
    "a = 1\n",
    "b = 2\n",
    "dx = (b - a)/N\n",
    "x = np.linspace(a,b,N + 1)\n",
    "y = x**x\n",
    "I = spi.trapz(y,x)\n",
    "print(I)"
   ]
  }
 ],
 "metadata": {
  "kernelspec": {
   "display_name": "Python 3",
   "language": "python",
   "name": "python3"
  },
  "language_info": {
   "codemirror_mode": {
    "name": "ipython",
    "version": 3
   },
   "file_extension": ".py",
   "mimetype": "text/x-python",
   "name": "python",
   "nbconvert_exporter": "python",
   "pygments_lexer": "ipython3",
   "version": "3.8.3"
  }
 },
 "nbformat": 4,
 "nbformat_minor": 4
}
