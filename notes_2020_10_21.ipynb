{
 "cells": [
  {
   "cell_type": "markdown",
   "metadata": {},
   "source": [
    "# MATH 210 Introduction to Mathematical Computing\n",
    "\n",
    "## October 21, 2020"
   ]
  },
  {
   "cell_type": "code",
   "execution_count": 1,
   "metadata": {},
   "outputs": [],
   "source": [
    "import numpy as np"
   ]
  },
  {
   "cell_type": "markdown",
   "metadata": {},
   "source": [
    "## Riemann sums"
   ]
  },
  {
   "cell_type": "markdown",
   "metadata": {},
   "source": [
    "$$\n",
    "\\int_0^{\\pi/2} \\cos(x) dx = 1 \n",
    "$$"
   ]
  },
  {
   "cell_type": "code",
   "execution_count": 2,
   "metadata": {},
   "outputs": [
    {
     "name": "stdout",
     "output_type": "stream",
     "text": [
      "0.9992143962198358\n"
     ]
    }
   ],
   "source": [
    "a = 0; b = np.pi/2; N = 1000;\n",
    "dx = (b - a)/N\n",
    "x = np.linspace(a,b,N+1)\n",
    "x_right = x[1:]\n",
    "fx = np.cos(x_right)\n",
    "approx = np.sum(fx*dx)\n",
    "print(approx)"
   ]
  },
  {
   "cell_type": "markdown",
   "metadata": {},
   "source": [
    "$$\n",
    "\\int_0^1 \\frac{1}{\\sqrt[3]{1 + x}} dx\n",
    "$$"
   ]
  },
  {
   "cell_type": "code",
   "execution_count": 3,
   "metadata": {},
   "outputs": [
    {
     "name": "stdout",
     "output_type": "stream",
     "text": [
      "0.8750919037191298\n"
     ]
    }
   ],
   "source": [
    "a = 0; b = 1; N = 17;\n",
    "dx = (b - a)/N\n",
    "x = np.linspace(a,b,N+1)\n",
    "x_right = x[1:]\n",
    "fx = 1/(1 + x_right)**(1/3)\n",
    "approx = np.sum(fx*dx)\n",
    "print(approx)"
   ]
  }
 ],
 "metadata": {
  "kernelspec": {
   "display_name": "Python 3",
   "language": "python",
   "name": "python3"
  },
  "language_info": {
   "codemirror_mode": {
    "name": "ipython",
    "version": 3
   },
   "file_extension": ".py",
   "mimetype": "text/x-python",
   "name": "python",
   "nbconvert_exporter": "python",
   "pygments_lexer": "ipython3",
   "version": "3.8.3"
  }
 },
 "nbformat": 4,
 "nbformat_minor": 4
}
