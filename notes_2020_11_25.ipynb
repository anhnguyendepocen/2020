{
 "cells": [
  {
   "cell_type": "markdown",
   "metadata": {},
   "source": [
    "# MATH 210 Introduction to Mathematical Computing\n",
    "\n",
    "## November 25, 2020\n",
    "\n",
    "* How does `scipy.solve` work?\n",
    "* LU factorization"
   ]
  },
  {
   "cell_type": "markdown",
   "metadata": {},
   "source": [
    "## How does scipy.linalg.solve work?"
   ]
  },
  {
   "cell_type": "markdown",
   "metadata": {},
   "source": [
    "Look at the documentation for [scipy.linalg.solve](https://docs.scipy.org/doc/scipy/reference/generated/scipy.linalg.solve.html#scipy.linalg.solve) and we see that `solve` uses [LAPACK](https://en.wikipedia.org/wiki/LAPACK). In particular, it uses the [LU factorization](https://www.netlib.org/lapack/lug/node38.html) to solve a system of equations $A \\mathbf{x} = \\mathbf{b}$:\n",
    "\n",
    "1. Compute $A = LU$ (more generally $A = PLU$)\n",
    "2. Solve lower triangular system $L \\mathbf{y} = \\mathbf{b}$\n",
    "3. Solve upper triangular system $U \\mathbf{x} = \\mathbf{y}$\n",
    "\n",
    "Remember $A=LU$ only exists if we can reduce $A$ without switching rows."
   ]
  },
  {
   "cell_type": "markdown",
   "metadata": {},
   "source": [
    "## LU Factorization\n",
    "\n",
    "Write a function called `lu` which takes $A$ and returns a tuple of NumPy arrays `(L,U)` where $A = LU$, or if $LU$ factorization does not exist return `None`."
   ]
  },
  {
   "cell_type": "code",
   "execution_count": 1,
   "metadata": {},
   "outputs": [],
   "source": [
    "import numpy as np"
   ]
  },
  {
   "cell_type": "code",
   "execution_count": 2,
   "metadata": {},
   "outputs": [],
   "source": [
    "def lu(A):\n",
    "    # Return None if A is not a square matrix\n",
    "    if A.shape[0] != A.shape[1]:\n",
    "        return None\n",
    "    N = A.shape[0]\n",
    "    L = np.eye(N)\n",
    "    U = A\n",
    "    # n across the columns and m down the rows\n",
    "    for n in range(0,N-1):\n",
    "        for m in range(n+1,N):\n",
    "            # Return None if the pivot entry U[n,n] is too small\n",
    "            if abs(U[n,n]) < 1e-10:\n",
    "                return None\n",
    "            # Make U[m,n] equal to 0: add -U[m,n]/U[n,n] times row n to row m\n",
    "            E = np.eye(N)\n",
    "            E[m,n] = -U[m,n]/U[n,n]\n",
    "            # Update L = E1^{-1}E2^{-1}...EM^{-1}\n",
    "            L[m,n] = U[m,n]/U[n,n]\n",
    "            U = E@U\n",
    "    return (L,U)"
   ]
  },
  {
   "cell_type": "code",
   "execution_count": 3,
   "metadata": {},
   "outputs": [
    {
     "name": "stdout",
     "output_type": "stream",
     "text": [
      "None\n"
     ]
    }
   ],
   "source": [
    "A = np.array([[1,2],[3,4],[5,6]])\n",
    "result = lu(A)\n",
    "print(result)"
   ]
  },
  {
   "cell_type": "code",
   "execution_count": 4,
   "metadata": {},
   "outputs": [
    {
     "name": "stdout",
     "output_type": "stream",
     "text": [
      " A =\n",
      "\n",
      "[[1 2]\n",
      " [3 4]]\n",
      "\n",
      " L =\n",
      "\n",
      "[[1. 0.]\n",
      " [3. 1.]]\n",
      "\n",
      " U =\n",
      "\n",
      "[[ 1.  2.]\n",
      " [ 0. -2.]]\n",
      "\n",
      "LU =\n",
      "\n",
      "[[1. 2.]\n",
      " [3. 4.]]\n"
     ]
    }
   ],
   "source": [
    "A = np.array([[1,2],[3,4]])\n",
    "L,U = lu(A)\n",
    "print(' A =\\n'); print(A)\n",
    "print('\\n L =\\n'); print(L)\n",
    "print('\\n U =\\n'); print(U)\n",
    "print('\\nLU =\\n'); print(L@U)"
   ]
  },
  {
   "cell_type": "code",
   "execution_count": 5,
   "metadata": {},
   "outputs": [
    {
     "name": "stdout",
     "output_type": "stream",
     "text": [
      " A =\n",
      "\n",
      "[[-3 -5 -3  1 -5]\n",
      " [-1 -4  4 -3 -1]\n",
      " [-1  0 -5  4 -4]\n",
      " [-2  4 -5 -3  3]\n",
      " [ 3 -2  0 -3  2]]\n",
      "\n",
      " L =\n",
      "\n",
      "[[  1.           0.           0.           0.           0.        ]\n",
      " [  0.33333333   1.           0.           0.           0.        ]\n",
      " [  0.33333333  -0.71428571   1.           0.           0.        ]\n",
      " [  0.66666667  -3.14285714 -29.66666667   1.           0.        ]\n",
      " [ -1.           3.          42.          -1.91666667   1.        ]]\n",
      "\n",
      " U =\n",
      "\n",
      "[[ -3.          -5.          -3.           1.          -5.        ]\n",
      " [  0.          -2.33333333   5.          -3.33333333   0.66666667]\n",
      " [  0.           0.          -0.42857143   1.28571429  -1.85714286]\n",
      " [  0.           0.           0.          24.         -46.66666667]\n",
      " [  0.           0.           0.           0.         -16.44444444]]\n",
      "\n",
      "LU =\n",
      "\n",
      "[[-3. -5. -3.  1. -5.]\n",
      " [-1. -4.  4. -3. -1.]\n",
      " [-1.  0. -5.  4. -4.]\n",
      " [-2.  4. -5. -3.  3.]\n",
      " [ 3. -2.  0. -3.  2.]]\n"
     ]
    }
   ],
   "source": [
    "A = np.random.randint(-5,5,(5,5))\n",
    "result = lu(A)\n",
    "# Show result if lu does not return None\n",
    "if result:\n",
    "    L,U = result\n",
    "    print(' A =\\n'); print(A)\n",
    "    print('\\n L =\\n'); print(L)\n",
    "    print('\\n U =\\n'); print(U)\n",
    "    print('\\nLU =\\n'); print(L@U)"
   ]
  },
  {
   "cell_type": "markdown",
   "metadata": {},
   "source": [
    "## Triangular system\n",
    "\n",
    "Write a function called `solve_lower_triangular` which takes input parameters `L` and `b` and returns the solution `y` of the lower triangular system `Ly = b`. In particular, if we have an $N \\times N$ lower triangular system:\n",
    "\n",
    "\\begin{array}{ccccccccccc}\n",
    "l_{0,0}y_0 & & & & & & & & & = & b_0 \\\\\n",
    "l_{1,0}y_0 & + & l_{1,1}y_1 & & & & & & & = & b_1 \\\\\n",
    "l_{2,0}y_0 & + & l_{2,1}y_1 & + & l_{2,2}y_2 & & & & & = & b_2 \\\\\n",
    "& \\vdots & & & & \\ddots & & & & \\vdots & \\\\\n",
    "l_{N-1,0}y_0 & + & l_{N-1,1}y_1 & + & l_{N-1,2}y_2 & + & \\cdots & + & l_{N-1,N-1}y_{N-1} & = & b_{N-1} \\\\\n",
    "\\end{array}\n",
    "\n",
    "Then we solve\n",
    "\n",
    "\\begin{align*}\n",
    "y_0 &= b_0/l_{0,0} \\\\\n",
    "y_1 &= (b_1 - l_{1,0}y_0)/l_{1,1} \\\\\n",
    "y_2 &= (b_2 - l_{2,0}y_0 - l_{2,1}y_1)/l_{2,2} \\\\\n",
    "& \\vdots \\\\\n",
    "y_{N-1} &= (b_{N-1} - l_{N-1,0}y_0 - l_{N-1,1}y_1 - l_{N-1,2}y_2 - \\cdots - l_{N-1,N-2}y_{N-2})/l_{N-1,N-1} \\\\\n",
    "\\end{align*}\n",
    "\n"
   ]
  },
  {
   "cell_type": "code",
   "execution_count": 6,
   "metadata": {},
   "outputs": [],
   "source": [
    "def solve_lower_triangular(L,b):\n",
    "    if L.shape[0] != L.shape[1]:\n",
    "        return None\n",
    "    N = L.shape[1]\n",
    "    y = np.zeros((N,1))\n",
    "    for n in range(0,N):\n",
    "        y[n] = (b[n] - sum([L[n,k]*y[k] for k in range(0,n+1)]))/L[n,n]\n",
    "    return y"
   ]
  },
  {
   "cell_type": "code",
   "execution_count": 14,
   "metadata": {},
   "outputs": [
    {
     "name": "stdout",
     "output_type": "stream",
     "text": [
      "\n",
      " L =\n",
      "\n",
      "[[ 1  0]\n",
      " [-2  2]]\n",
      "\n",
      " b =\n",
      "\n",
      "[[ 4]\n",
      " [-5]]\n",
      "\n",
      " y =\n",
      "\n",
      "[[4. ]\n",
      " [1.5]]\n",
      "\n",
      "Ly =\n",
      "\n",
      "[[ 4.]\n",
      " [-5.]]\n"
     ]
    }
   ],
   "source": [
    "L = np.array([[1,0],[-2,2]])\n",
    "b = np.array([[4],[-5]])\n",
    "y = solve_lower_triangular(L,b)\n",
    "print('\\n L =\\n'); print(L)\n",
    "print('\\n b =\\n'); print(b)\n",
    "print('\\n y =\\n'); print(y)\n",
    "print('\\nLy =\\n'); print(L@y)"
   ]
  },
  {
   "cell_type": "markdown",
   "metadata": {},
   "source": [
    "Success!"
   ]
  },
  {
   "cell_type": "markdown",
   "metadata": {},
   "source": [
    "## Exercise 1\n",
    "\n",
    "Write a function called `solve_upper_triangular` which takes input parameters `U` and `y` and returns the solution `x` of the upper triangular system `Ux = y`.\n",
    "\n",
    "## Exercise 2\n",
    "\n",
    "Combine the functions above to write a function called `solve` which takes input parameters `A` and `b` and returns the solution `x` of the system `Ax = b`. "
   ]
  }
 ],
 "metadata": {
  "kernelspec": {
   "display_name": "Python 3",
   "language": "python",
   "name": "python3"
  },
  "language_info": {
   "codemirror_mode": {
    "name": "ipython",
    "version": 3
   },
   "file_extension": ".py",
   "mimetype": "text/x-python",
   "name": "python",
   "nbconvert_exporter": "python",
   "pygments_lexer": "ipython3",
   "version": "3.8.3"
  }
 },
 "nbformat": 4,
 "nbformat_minor": 4
}
